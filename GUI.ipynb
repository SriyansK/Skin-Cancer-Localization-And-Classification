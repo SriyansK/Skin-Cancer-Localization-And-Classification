{
 "metadata": {
  "language_info": {
   "codemirror_mode": {
    "name": "ipython",
    "version": 3
   },
   "file_extension": ".py",
   "mimetype": "text/x-python",
   "name": "python",
   "nbconvert_exporter": "python",
   "pygments_lexer": "ipython3",
   "version": "3.6.6-final"
  },
  "orig_nbformat": 2,
  "kernelspec": {
   "name": "Python 3.6.6 64-bit",
   "display_name": "Python 3.6.6 64-bit",
   "metadata": {
    "interpreter": {
     "hash": "15eb641a46e671fc7c532d6fef8d020ee50a2a26247eca6bf61340e63cb2129c"
    }
   }
  }
 },
 "nbformat": 4,
 "nbformat_minor": 2,
 "cells": [
  {
   "cell_type": "code",
   "execution_count": 5,
   "metadata": {
    "tags": []
   },
   "outputs": [],
   "source": [
    "import os\n",
    "import tkinter as tk\n",
    "from tkinter import Text,filedialog\n",
    "from tkinter import *\n",
    "from PIL import Image,ImageTk\n",
    "from keras.preprocessing import image\n",
    "from keras.models import load_model\n",
    "import numpy as np"
   ]
  },
  {
   "cell_type": "code",
   "execution_count": 6,
   "metadata": {},
   "outputs": [],
   "source": [
    "def load_processed_model():\n",
    "    model = load_model('D:\\Programs\\Python\\Projects\\Skin-Cancer-Localization-And-Classification\\Skin_Cancer(Classification).h5')\n",
    "    return model"
   ]
  },
  {
   "cell_type": "code",
   "execution_count": 7,
   "metadata": {
    "tags": []
   },
   "outputs": [],
   "source": [
    "root = tk.Tk()\n",
    "root.title('Skin Cancer Classification')\n",
    "root.iconbitmap(r'D:\\Photos & Videos\\Logo1.ico')\n",
    "canvas = Canvas(width=250, height=250, bg='white')\n",
    "canvas.pack()\n",
    "\n",
    "model = load_processed_model()\n",
    "def Find():\n",
    "    img_file = filedialog.askopenfilename(title='Select Image',filetypes=[(\"Image File\",'.jpg')])\n",
    "    img_display = Image.open(img_file)\n",
    "    pic = ImageTk.PhotoImage(img_display)\n",
    "    pic_label = Label(canvas,image = pic)\n",
    "    pic_label.image=pic\n",
    "    pic_label.pack()\n",
    "\n",
    "    res = image.load_img(img_file,target_size=(224,224))\n",
    "    res = image.img_to_array(res)\n",
    "    res = np.expand_dims(res,axis=0)\n",
    "    res = res/255\n",
    "\n",
    "    window1  = Toplevel()\n",
    "    window1.iconbitmap(r'D:\\Photos & Videos\\Logo1.ico')\n",
    "    output = model.predict(res)\n",
    "    if(output[0][0]>output[0][1]):\n",
    "        text1=\"Chances of Cancer \" + str(round(100.00 - output[0][0]*100,2))+\"%\"\n",
    "        print(output[0][0])\n",
    "        print(output[0][1])\n",
    "        print(output[1][0])\n",
    "        print(output[1][1])\n",
    "        lbl = Label(window1,text=text1).pack()\n",
    "    else:\n",
    "        print(output[0][0])\n",
    "        print(output[0][1])\n",
    "        print(output[1][0])\n",
    "        print(output[1][1])\n",
    "        text2=\"Chances of Cancer \" + str(round(output[0][1]*100,2)) +\"%\"\n",
    "        lbl = Label(window1,text=text2).pack()\n",
    "openfile = tk.Button(root,text=\"Open Image\",padx=10,pady=5,fg=\"black\",command = Find)\n",
    "openfile.pack()\n",
    "\n",
    "root.mainloop()"
   ]
  },
  {
   "cell_type": "code",
   "execution_count": null,
   "metadata": {},
   "outputs": [],
   "source": []
  }
 ]
}